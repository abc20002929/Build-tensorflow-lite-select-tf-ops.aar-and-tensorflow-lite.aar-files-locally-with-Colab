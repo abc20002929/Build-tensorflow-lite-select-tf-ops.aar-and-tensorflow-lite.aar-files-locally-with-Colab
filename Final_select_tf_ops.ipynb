{
  "cells": [
    {
      "cell_type": "markdown",
      "metadata": {
        "id": "h3Wjgm5vOJQE"
      },
      "source": [
        "IMPORTANT for this build and at end of September 2022 you need branch 2.8 of tensorflow, Bazel 4.2.1 and Python 3.7\n",
        "\n",
        "This flow follows the procedure [here](https://www.tensorflow.org/lite/android/lite_build ) with script [commands](https://raw.githubusercontent.com/tensorflow/tensorflow/master/tensorflow/tools/dockerfiles/tflite-android.Dockerfile)."
      ]
    },
    {
      "cell_type": "code",
      "execution_count": null,
      "metadata": {
        "id": "kOrMk_EZEBPg"
      },
      "outputs": [],
      "source": [
        "# Check Python's version and path.\n",
        "!python --version\n",
        "!which python3"
      ]
    },
    {
      "cell_type": "code",
      "execution_count": null,
      "metadata": {
        "id": "wDZhmNHXgdra"
      },
      "outputs": [],
      "source": [
        "%cd ~\n",
        "%cd /\n",
        "!ls"
      ]
    },
    {
      "cell_type": "code",
      "execution_count": null,
      "metadata": {
        "id": "2MPRD9V0uigi"
      },
      "outputs": [],
      "source": [
        "# Make folder.\n",
        "!mkdir -p '/android/sdk/cmdline-tools'\n",
        "# Install jdk.\n",
        "!apt-get install -y --no-install-recommends default-jdk"
      ]
    },
    {
      "cell_type": "code",
      "execution_count": null,
      "metadata": {
        "id": "-bZS6Hnfu26o"
      },
      "outputs": [],
      "source": [
        "!ls"
      ]
    },
    {
      "cell_type": "markdown",
      "metadata": {
        "id": "IkbFY8beu6je"
      },
      "source": [
        "SDK"
      ]
    },
    {
      "cell_type": "code",
      "execution_count": null,
      "metadata": {
        "id": "9w8caOU6u3T3"
      },
      "outputs": [],
      "source": [
        "# Install android SDK.\n",
        "!wget -q https://dl.google.com/android/repository/commandlinetools-linux-6858069_latest.zip\n",
        "!unzip commandlinetools-linux-6858069_latest.zip -d /tmp\n",
        "!mv /tmp/cmdline-tools /android/sdk/cmdline-tools/latest\n",
        "!rm commandlinetools-linux-6858069_latest.zip"
      ]
    },
    {
      "cell_type": "markdown",
      "metadata": {
        "id": "kok6mdeYvRpz"
      },
      "source": [
        "Set paths."
      ]
    },
    {
      "cell_type": "code",
      "execution_count": null,
      "metadata": {
        "id": "CvAYG7JCvONn"
      },
      "outputs": [],
      "source": [
        "%env PATH = /usr/local/nvidia/bin:/usr/local/cuda/bin:/usr/local/sbin:/usr/local/bin:/usr/sbin:/usr/bin:/sbin:/bin:/tools/node/bin:/tools/google-cloud-sdk/bin:/opt/bin:/android/sdk/tools:/android/sdk/platform-tools:/android/android-sdk_linux:/android/sdk/cmdline-tools/cmdline-tools/latest/bin:/android/sdk/platform-tools:/android/ndk:/android/ndk/android-ndk-r19c\n",
        "%env ANDROID_API_LEVEL=23\n",
        "#%env ANDROID_SDK_API_LEVEL=29\n",
        "%env ANDROID_NDK_API_LEVEL=21\n",
        "%env ANDROID_SDK_HOME /android/sdk\n",
        "# Build Tools Version liable to change.\n",
        "%env ANDROID_BUILD_TOOLS_VERSION=30.0.0\n",
        "%env ANDROID_NDK_HOME=/android/ndk/android-ndk-r19c\n",
        "# path for libtensorflow_framework.so.2 /usr/local/lib/python3.7/dist-packages/tensorflow/libtensorflow_framework.so.2\n",
        "# adding it to LD_LIBRARY_PATH.\n",
        "%env LD_LIBRARY_PATH=/usr/local/nvidia/lib:/usr/local/nvidia/lib64:/usr/local/lib/python3.7/dist-packages/tensorflow\n",
        "!export -p"
      ]
    },
    {
      "cell_type": "code",
      "execution_count": null,
      "metadata": {
        "id": "O01bQe2NvwZH"
      },
      "outputs": [],
      "source": [
        "%cd ~\n",
        "%cd /"
      ]
    },
    {
      "cell_type": "code",
      "execution_count": null,
      "metadata": {
        "id": "VKeerutvvkfX"
      },
      "outputs": [],
      "source": [
        "%cd /android/sdk/cmdline-tools/latest/bin\n",
        "!ls"
      ]
    },
    {
      "cell_type": "code",
      "execution_count": null,
      "metadata": {
        "id": "DehN72HrwdX1"
      },
      "outputs": [],
      "source": [
        "# Download additional Android tools and libraries (note that you may need to accept the license).\n",
        "!bash sdkmanager  \\\n",
        "  \"build-tools;30.0.0\" \\\n",
        "  \"platform-tools\" \\\n",
        "  \"platforms;android-23\""
      ]
    },
    {
      "cell_type": "markdown",
      "metadata": {
        "id": "xeinJ3LmxbEZ"
      },
      "source": [
        "NDK"
      ]
    },
    {
      "cell_type": "code",
      "execution_count": null,
      "metadata": {
        "id": "NpnFaJ4Pxbp7"
      },
      "outputs": [],
      "source": [
        "# Install android NDK.\n",
        "!mkdir -p '/android/ndk/'\n",
        "!wget -q https://dl.google.com/android/repository/android-ndk-r19c-linux-x86_64.zip\n",
        "!unzip android-ndk-r19c-linux-x86_64.zip -d /android\n",
        "!rm android-ndk-r19c-linux-x86_64.zip\n",
        "!bash -c \"ln -s /android/android-ndk-* /android/ndk\""
      ]
    },
    {
      "cell_type": "code",
      "execution_count": null,
      "metadata": {
        "id": "e5kAgkXLxqnO"
      },
      "outputs": [],
      "source": [
        "# Make all the folder executable.\n",
        "!chmod -R go=u '/android'"
      ]
    },
    {
      "cell_type": "code",
      "execution_count": null,
      "metadata": {
        "id": "S2SbVzv0xrcI"
      },
      "outputs": [],
      "source": [
        "%cd ~\n",
        "%cd /\n",
        "!ls"
      ]
    },
    {
      "cell_type": "code",
      "execution_count": null,
      "metadata": {
        "id": "TVE0u_NVxuw8"
      },
      "outputs": [],
      "source": [
        "# Clone TensorFlow repository.\n",
        "!git clone https://github.com/tensorflow/tensorflow.git"
      ]
    },
    {
      "cell_type": "code",
      "execution_count": null,
      "metadata": {
        "id": "gB9YIZ1SzATO"
      },
      "outputs": [],
      "source": [
        "# Rename it\n",
        "!mv /tensorflow /tensorflow_src"
      ]
    },
    {
      "cell_type": "code",
      "execution_count": null,
      "metadata": {
        "id": "EW7BwQZavTK4"
      },
      "outputs": [],
      "source": [
        "# Checkout branch r2.8 for this build.\n",
        "%cd tensorflow_src\n",
        "%cd tensorflow\n",
        "!git checkout r2.8"
      ]
    },
    {
      "cell_type": "code",
      "execution_count": null,
      "metadata": {
        "id": "3mNa3XGWyYnr"
      },
      "outputs": [],
      "source": [
        "# Based on the above branch Baselisk will download and install appropriate version of Bazel.\n",
        "\n",
        "# Download latest version of Bazelisk.\n",
        "!wget https://github.com/bazelbuild/bazelisk/releases/latest/download/bazelisk-linux-amd64\n",
        "\n",
        "# Make script executable.\n",
        "!chmod +x bazelisk-linux-amd64\n",
        "\n",
        "# Adding to the path.\n",
        "!sudo mv bazelisk-linux-amd64 /usr/local/bin/bazel\n",
        "\n",
        "# Extract bazel info\n",
        "!bazel"
      ]
    },
    {
      "cell_type": "code",
      "execution_count": null,
      "metadata": {
        "id": "gzXy7NyC2T9q"
      },
      "outputs": [],
      "source": [
        "!bazel version"
      ]
    },
    {
      "cell_type": "code",
      "execution_count": null,
      "metadata": {
        "id": "u3f4vx09Pg8O"
      },
      "outputs": [],
      "source": [
        "%cd ../\n",
        "!ls"
      ]
    },
    {
      "cell_type": "code",
      "execution_count": null,
      "metadata": {
        "id": "Jj0_H_ZIzHOL"
      },
      "outputs": [],
      "source": [
        "# Run configure\n",
        "# parameters would be '/usr/bin/python3''/usr/local/lib/python3.7/dist-packages''N''N''N''-Wno-sign-compare''y'\n",
        "!python configure.py\n"
      ]
    },
    {
      "cell_type": "markdown",
      "metadata": {
        "id": "zJA1GpB7zo9c"
      },
      "source": [
        "Build TensorFlow Lite\n",
        "\n",
        "IMPORTANT = By building below then inside android project you will need to get the tensorflow-lite-api.aar file from [here](https://repo1.maven.org/maven2/org/tensorflow/tensorflow-lite-api/2.8.0/)."
      ]
    },
    {
      "cell_type": "code",
      "execution_count": null,
      "metadata": {
        "id": "rb1IYAfMzq7Q"
      },
      "outputs": [],
      "source": [
        "!bazel build -c opt --fat_apk_cpu=x86,x86_64,arm64-v8a,armeabi-v7a \\\n",
        "  --host_crosstool_top=@bazel_tools//tools/cpp:toolchain \\\n",
        "  //tensorflow/lite/java:tensorflow-lite"
      ]
    },
    {
      "cell_type": "markdown",
      "metadata": {
        "id": "eEGLEnBB0Hxr"
      },
      "source": [
        "Build TF-Lite.aar and select-tf-ops.aar if tf ops are present.\n",
        "\n",
        "(no tensorflow-lite-api.aar file needed to be downloaded)\n",
        "\n",
        "By the time this colab was created a full set of archs was necessary i.e x86,x86_64,arm64-v8a,armeabi-v7a\n",
        "\n",
        "WARNING = The procedure to generate the tensorflow-lite-select-tf-ops.aar requires high number of CPUs and high RAM. You should consider connecting this colab to a Google Cloud VM instance with minimum of 24 CPUs and 100MB of RAM and the procedure will take 1,5 hours. If you don't then the default runtime will be terminated after 6 hours and the procedure will not have ended."
      ]
    },
    {
      "cell_type": "code",
      "execution_count": null,
      "metadata": {
        "id": "quusl3690HRZ"
      },
      "outputs": [],
      "source": [
        "!bash tensorflow/lite/tools/build_aar.sh \\\n",
        "  --input_models=/conv_model.tflite \\\n",
        "  --target_archs=x86,x86_64,arm64-v8a,armeabi-v7a"
      ]
    }
  ],
  "metadata": {
    "colab": {
      "collapsed_sections": [],
      "provenance": []
    },
    "kernelspec": {
      "display_name": "Python 3",
      "name": "python3"
    },
    "language_info": {
      "name": "python"
    }
  },
  "nbformat": 4,
  "nbformat_minor": 0
}
