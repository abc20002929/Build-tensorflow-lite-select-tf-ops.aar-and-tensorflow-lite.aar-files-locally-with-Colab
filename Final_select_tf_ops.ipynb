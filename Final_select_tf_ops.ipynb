{
  "nbformat": 4,
  "nbformat_minor": 0,
  "metadata": {
    "colab": {
      "provenance": [],
      "collapsed_sections": []
    },
    "kernelspec": {
      "name": "python3",
      "display_name": "Python 3"
    },
    "language_info": {
      "name": "python"
    }
  },
  "cells": [
    {
      "cell_type": "markdown",
      "source": [
        "IMPORTANT for this build and at end of September 2022 you need branch 2.8 of tensorflow, Bazel 4.2.1 and Python 3.7\n",
        "\n",
        "This flow follows the procedure [here](https://www.tensorflow.org/lite/android/lite_build ) with script [commands](https://raw.githubusercontent.com/tensorflow/tensorflow/master/tensorflow/tools/dockerfiles/tflite-android.Dockerfile)."
      ],
      "metadata": {
        "id": "h3Wjgm5vOJQE"
      }
    },
    {
      "cell_type": "code",
      "source": [
        "# Check Python's version and path.\n",
        "!python --version\n",
        "!which python3"
      ],
      "metadata": {
        "id": "kOrMk_EZEBPg"
      },
      "execution_count": null,
      "outputs": []
    },
    {
      "cell_type": "code",
      "source": [
        "%cd ~\n",
        "%cd /\n",
        "!ls"
      ],
      "metadata": {
        "id": "wDZhmNHXgdra"
      },
      "execution_count": null,
      "outputs": []
    },
    {
      "cell_type": "code",
      "execution_count": null,
      "metadata": {
        "id": "2MPRD9V0uigi"
      },
      "outputs": [],
      "source": [
        "# Make folder.\n",
        "!mkdir -p '/android/sdk/cmdline-tools'\n",
        "# Install jdk.\n",
        "!apt-get install -y --no-install-recommends default-jdk"
      ]
    },
    {
      "cell_type": "code",
      "source": [
        "!ls"
      ],
      "metadata": {
        "id": "-bZS6Hnfu26o"
      },
      "execution_count": null,
      "outputs": []
    },
    {
      "cell_type": "markdown",
      "source": [
        "SDK"
      ],
      "metadata": {
        "id": "IkbFY8beu6je"
      }
    },
    {
      "cell_type": "code",
      "source": [
        "# Install android SDK.\n",
        "!wget -q https://dl.google.com/android/repository/commandlinetools-linux-6858069_latest.zip\n",
        "!unzip commandlinetools-linux-6858069_latest.zip -d /tmp\n",
        "!mv /tmp/cmdline-tools /android/sdk/cmdline-tools/latest\n",
        "!rm commandlinetools-linux-6858069_latest.zip"
      ],
      "metadata": {
        "id": "9w8caOU6u3T3"
      },
      "execution_count": null,
      "outputs": []
    },
    {
      "cell_type": "markdown",
      "source": [
        "Set paths."
      ],
      "metadata": {
        "id": "kok6mdeYvRpz"
      }
    },
    {
      "cell_type": "code",
      "source": [
        "%env PATH = /usr/local/nvidia/bin:/usr/local/cuda/bin:/usr/local/sbin:/usr/local/bin:/usr/sbin:/usr/bin:/sbin:/bin:/tools/node/bin:/tools/google-cloud-sdk/bin:/opt/bin:/android/sdk/tools:/android/sdk/platform-tools:/android/android-sdk_linux:/android/sdk/cmdline-tools/cmdline-tools/latest/bin:/android/sdk/platform-tools:/android/ndk:/android/ndk/android-ndk-r19c\n",
        "%env ANDROID_API_LEVEL=23\n",
        "#%env ANDROID_SDK_API_LEVEL=29\n",
        "%env ANDROID_NDK_API_LEVEL=21\n",
        "%env ANDROID_SDK_HOME /android/sdk\n",
        "# Build Tools Version liable to change.\n",
        "%env ANDROID_BUILD_TOOLS_VERSION=30.0.0\n",
        "%env ANDROID_NDK_HOME=/android/ndk/android-ndk-r19c\n",
        "# path for libtensorflow_framework.so.2 /usr/local/lib/python3.7/dist-packages/tensorflow/libtensorflow_framework.so.2\n",
        "# adding it to LD_LIBRARY_PATH.\n",
        "%env LD_LIBRARY_PATH=/usr/local/nvidia/lib:/usr/local/nvidia/lib64:/usr/local/lib/python3.7/dist-packages/tensorflow\n",
        "!export -p"
      ],
      "metadata": {
        "id": "CvAYG7JCvONn"
      },
      "execution_count": null,
      "outputs": []
    },
    {
      "cell_type": "code",
      "source": [
        "%cd ~\n",
        "%cd /"
      ],
      "metadata": {
        "id": "O01bQe2NvwZH"
      },
      "execution_count": null,
      "outputs": []
    },
    {
      "cell_type": "code",
      "source": [
        "%cd /android/sdk/cmdline-tools/latest/bin\n",
        "!ls"
      ],
      "metadata": {
        "id": "VKeerutvvkfX"
      },
      "execution_count": null,
      "outputs": []
    },
    {
      "cell_type": "code",
      "source": [
        "# Download additional Android tools and libraries (note that you may need to accept the license).\n",
        "!bash sdkmanager  \\\n",
        "  \"build-tools;30.0.0\" \\\n",
        "  \"platform-tools\" \\\n",
        "  \"platforms;android-23\""
      ],
      "metadata": {
        "id": "DehN72HrwdX1"
      },
      "execution_count": null,
      "outputs": []
    },
    {
      "cell_type": "markdown",
      "source": [
        "NDK"
      ],
      "metadata": {
        "id": "xeinJ3LmxbEZ"
      }
    },
    {
      "cell_type": "code",
      "source": [
        "# Install android NDK.\n",
        "!mkdir -p '/android/ndk/'\n",
        "!wget -q https://dl.google.com/android/repository/android-ndk-r19c-linux-x86_64.zip\n",
        "!unzip android-ndk-r19c-linux-x86_64.zip -d /android\n",
        "!rm android-ndk-r19c-linux-x86_64.zip\n",
        "!bash -c \"ln -s /android/android-ndk-* /android/ndk\""
      ],
      "metadata": {
        "id": "NpnFaJ4Pxbp7"
      },
      "execution_count": null,
      "outputs": []
    },
    {
      "cell_type": "code",
      "source": [
        "# Make all the folder executable.\n",
        "!chmod -R go=u '/android'"
      ],
      "metadata": {
        "id": "e5kAgkXLxqnO"
      },
      "execution_count": null,
      "outputs": []
    },
    {
      "cell_type": "code",
      "source": [
        "%cd ~\n",
        "%cd /\n",
        "!ls"
      ],
      "metadata": {
        "id": "S2SbVzv0xrcI"
      },
      "execution_count": null,
      "outputs": []
    },
    {
      "cell_type": "code",
      "source": [
        "# Clone TensorFlow repository.\n",
        "!git clone https://github.com/tensorflow/tensorflow.git"
      ],
      "metadata": {
        "id": "TVE0u_NVxuw8"
      },
      "execution_count": null,
      "outputs": []
    },
    {
      "cell_type": "code",
      "source": [
        "# Rename it\n",
        "!mv /tensorflow /tensorflow_src"
      ],
      "metadata": {
        "id": "gB9YIZ1SzATO"
      },
      "execution_count": null,
      "outputs": []
    },
    {
      "cell_type": "code",
      "source": [
        "# Checkout branch r2.8 for this build.\n",
        "%cd tensorflow_src\n",
        "%cd tensorflow\n",
        "!git checkout r2.8"
      ],
      "metadata": {
        "id": "EW7BwQZavTK4"
      },
      "execution_count": null,
      "outputs": []
    },
    {
      "cell_type": "code",
      "source": [
        "# Based on the above branch Baselisk will download and install appropriate version of Bazel.\n",
        "\n",
        "# Download latest version of Bazelisk.\n",
        "!wget https://github.com/bazelbuild/bazelisk/releases/latest/download/bazelisk-linux-amd64\n",
        "\n",
        "# Make script executable.\n",
        "!chmod +x bazelisk-linux-amd64\n",
        "\n",
        "# Adding to the path.\n",
        "!sudo mv bazelisk-linux-amd64 /usr/local/bin/bazel\n",
        "\n",
        "# Extract bazel info\n",
        "!bazel"
      ],
      "metadata": {
        "id": "3mNa3XGWyYnr"
      },
      "execution_count": null,
      "outputs": []
    },
    {
      "cell_type": "code",
      "source": [
        "!bazel version"
      ],
      "metadata": {
        "id": "gzXy7NyC2T9q"
      },
      "execution_count": null,
      "outputs": []
    },
    {
      "cell_type": "code",
      "source": [
        "%cd ../\n",
        "!ls"
      ],
      "metadata": {
        "id": "u3f4vx09Pg8O"
      },
      "execution_count": null,
      "outputs": []
    },
    {
      "cell_type": "code",
      "source": [
        "# Run configure\n",
        "# parameters would be '/usr/bin/python3''/usr/local/lib/python3.7/dist-packages''N''N''N''-Wno-sign-compare''y'\n",
        "!python configure.py\n"
      ],
      "metadata": {
        "id": "Jj0_H_ZIzHOL"
      },
      "execution_count": null,
      "outputs": []
    },
    {
      "cell_type": "markdown",
      "source": [
        "Build TensorFlow Lite\n",
        "\n",
        "IMPORTANT = By building below then inside android project you will need to get the tensorflow-lite-api.aar file from [here](https://repo1.maven.org/maven2/org/tensorflow/tensorflow-lite-api/2.8.0/)."
      ],
      "metadata": {
        "id": "zJA1GpB7zo9c"
      }
    },
    {
      "cell_type": "code",
      "source": [
        "!bazel build -c opt --fat_apk_cpu=x86,x86_64,arm64-v8a,armeabi-v7a \\\n",
        "  --host_crosstool_top=@bazel_tools//tools/cpp:toolchain \\\n",
        "  //tensorflow/lite/java:tensorflow-lite"
      ],
      "metadata": {
        "id": "rb1IYAfMzq7Q"
      },
      "execution_count": null,
      "outputs": []
    },
    {
      "cell_type": "markdown",
      "source": [
        "Build TF-Lite.aar and select-tf-ops.aar if tf ops are present.\n",
        "\n",
        "(no tensorflow-lite-api.aar file needed to be downloaded)\n",
        "\n",
        "By the time this colab was created a full set of archs was necessary i.e x86,x86_64,arm64-v8a,armeabi-v7a\n",
        "\n",
        "WARNING = The procedure to generate the tensorflow-lite-select-tf-ops.aar requires high number of CPUs and high RAM. You should consider connecting this colab to a Google Cloud VM instance with minimum of 24 CPUs and 100MB of RAM and the procedure will take 1,5 hours. If you don't then the default runtime will be terminated after 6 hours and the procedure will not have ended."
      ],
      "metadata": {
        "id": "eEGLEnBB0Hxr"
      }
    },
    {
      "cell_type": "code",
      "source": [
        "!bash tensorflow/lite/tools/build_aar.sh \\\n",
        "  --input_models=/conv_model.tflite \\\n",
        "  --target_archs=x86,x86_64,arm64-v8a,armeabi-v7a"
      ],
      "metadata": {
        "id": "quusl3690HRZ"
      },
      "execution_count": null,
      "outputs": []
    }
  ]
}